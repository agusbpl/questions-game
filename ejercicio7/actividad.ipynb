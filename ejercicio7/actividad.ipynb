{
 "cells": [
  {
   "cell_type": "markdown",
   "id": "7f3010e9",
   "metadata": {},
   "source": [
    "\"\"\"\n",
    "* Comience un repositorio **local** y agregue el archivo recientemente creado.\n",
    "* Crea tu propio repositorio **remoto** en [Github](https://github.com/) y suba el archivo al repositorio remoto.\n",
    "* Agrega el `README.md` con tu nombre y número de estudiante.\n",
    "* Modifique el programa anterior con las siguientes funcionalidades:\n",
    "    - El juego tiene un bug. Si el usuario ingresa un número de respuesta no válido por ejemplo 42 o \n",
    "    \"huevos con spam\" el programa falla con un error. Modifica el mismo para que si la respuesta no\n",
    "    es un número o bien no está en el rango de las respuestas posibles muestre un mensaje diciendo: \n",
    "    \"Respuesta no válida\" y termine de inmediato con exit status igual a 1. \n",
    "    - Modifique el juego para que al final de la partida se muestre el puntaje del jugador o\n",
    "    jugadora. El puntaje se calcula de la siguiente forma, cada intento fallido descuenta 0.5 puntos\n",
    "    y cada acierto suma 1 punto.\n",
    "    - Modifique el juego para, en lo posible, no acceder a las 3 listas usando índices. Ayuda:\n",
    "    ```python\n",
    "    questions_to_ask = random.choices(list(zip(questions, answers, correct_answers_index)), k=3)\n",
    "    ```\n",
    "    - Modifique el juego para que no muestre preguntas repetidas (investigue la función\n",
    "    `random.sample()`)\n",
    "\n",
    "<div style=\"page-break-after: always;\"></div>\n",
    "\n",
    "\"\"\""
   ]
  }
 ],
 "metadata": {
  "language_info": {
   "name": "python"
  }
 },
 "nbformat": 4,
 "nbformat_minor": 5
}
